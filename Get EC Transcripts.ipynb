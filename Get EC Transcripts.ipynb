{
 "cells": [
  {
   "cell_type": "markdown",
   "metadata": {},
   "source": [
    "get earning call transcripts for a given ticker"
   ]
  },
  {
   "cell_type": "code",
   "execution_count": 1,
   "metadata": {},
   "outputs": [
    {
     "data": {
      "text/plain": [
       "['ABBV', 'ABT', 'ACN', 'AOS', 'MMM']"
      ]
     },
     "execution_count": 1,
     "metadata": {},
     "output_type": "execute_result"
    }
   ],
   "source": [
    "# get ticker names from top5 folder\n",
    "# get ticker names from top5 folder\n",
    "import os\n",
    "\n",
    "ticker_names = []\n",
    "for filename in os.listdir('top5'):\n",
    "    if filename.endswith('.csv'):\n",
    "        ticker_names.append(filename.split('.')[0])\n",
    "\n",
    "ticker_names       "
   ]
  },
  {
   "cell_type": "code",
   "execution_count": 6,
   "metadata": {},
   "outputs": [],
   "source": [
    "import requests\n",
    "from bs4 import BeautifulSoup\n",
    "\n",
    "# URL of the webpage containing the links\n",
    "url = \"https://investors.abbvie.com/financial-releases\"\n",
    "\n",
    "# Send a GET request to the URL\n",
    "response = requests.get(url)\n",
    "\n",
    "# Check if the request was successful (status code 200)\n",
    "if response.status_code == 200:\n",
    "    # Parse the HTML content of the page\n",
    "    soup = BeautifulSoup(response.text, 'html.parser')\n",
    "\n",
    "    # Find all <td> elements with class 'cus_title'\n",
    "    td_elements = soup.find_all('td', class_='cus_title')\n",
    "\n",
    "    # Initialize a list to store the href attributes\n",
    "    hrefs = []\n",
    "\n",
    "    # Loop through the <td> elements\n",
    "    for td in td_elements:\n",
    "        # Find all <a> tags within the <td>\n",
    "        a_tags = td.find_all('a', href=True)\n",
    "        \n",
    "        # Extract href attributes and add them to the list\n",
    "        hrefs.extend([a['href'] for a in a_tags])\n",
    "\n",
    "else:\n",
    "    print(\"Failed to retrieve the webpage.\")\n"
   ]
  },
  {
   "cell_type": "code",
   "execution_count": 9,
   "metadata": {},
   "outputs": [],
   "source": [
    "urls = []\n",
    "# join url and hrefs then find the pdfs\n",
    "for href in hrefs:\n",
    "    urls.append(\"https://investors.abbvie.com\" + href)\n",
    "\n",
    "# get pdfs from urls\n",
    "import urllib.request\n",
    "\n",
    "for url in urls:\n",
    "    filename = url.split('/')[-1]\n",
    "    urllib.request.urlretrieve(url, filename)\n",
    "    \n",
    "\n"
   ]
  },
  {
   "cell_type": "code",
   "execution_count": 8,
   "metadata": {},
   "outputs": [
    {
     "data": {
      "text/plain": [
       "['https://investors.abbvie.com/news-releases/news-release-details/abbvie-acquire-cerevel-therapeutics-transformative-transaction',\n",
       " 'https://investors.abbvie.com',\n",
       " 'https://investors.abbvie.com/news-releases/news-release-details/abbvie-acquire-immunogen-including-its-flagship-cancer-therapy',\n",
       " 'https://investors.abbvie.com',\n",
       " 'https://investors.abbvie.com/news-releases/news-release-details/abbvie-reports-third-quarter-2023-financial-results',\n",
       " 'https://investors.abbvie.com',\n",
       " 'https://investors.abbvie.com/news-releases/news-release-details/abbvie-host-third-quarter-2023-earnings-conference-call',\n",
       " 'https://investors.abbvie.com',\n",
       " 'https://investors.abbvie.com/news-releases/news-release-details/abbvie-present-morgan-stanley-healthcare-conference-3',\n",
       " 'https://investors.abbvie.com',\n",
       " 'https://investors.abbvie.com/news-releases/news-release-details/abbvie-reports-second-quarter-2023-financial-results',\n",
       " 'https://investors.abbvie.com',\n",
       " 'https://investors.abbvie.com/news-releases/news-release-details/abbvie-host-second-quarter-2023-earnings-conference-call',\n",
       " 'https://investors.abbvie.com',\n",
       " 'https://investors.abbvie.com/news-releases/news-release-details/abbvie-present-goldman-sachs-44th-annual-global-healthcare',\n",
       " 'https://investors.abbvie.com',\n",
       " 'https://investors.abbvie.com/news-releases/news-release-details/abbvie-present-bank-america-securities-healthcare-conference',\n",
       " 'https://investors.abbvie.com',\n",
       " 'https://investors.abbvie.com/news-releases/news-release-details/abbvie-reports-first-quarter-2023-financial-results',\n",
       " 'https://investors.abbvie.com']"
      ]
     },
     "execution_count": 8,
     "metadata": {},
     "output_type": "execute_result"
    }
   ],
   "source": []
  },
  {
   "cell_type": "code",
   "execution_count": null,
   "metadata": {},
   "outputs": [],
   "source": []
  }
 ],
 "metadata": {
  "kernelspec": {
   "display_name": "base",
   "language": "python",
   "name": "python3"
  },
  "language_info": {
   "codemirror_mode": {
    "name": "ipython",
    "version": 3
   },
   "file_extension": ".py",
   "mimetype": "text/x-python",
   "name": "python",
   "nbconvert_exporter": "python",
   "pygments_lexer": "ipython3",
   "version": "3.10.9"
  }
 },
 "nbformat": 4,
 "nbformat_minor": 2
}
